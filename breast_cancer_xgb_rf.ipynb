{
 "cells": [
  {
   "cell_type": "markdown",
   "id": "45a40fbf",
   "metadata": {},
   "source": [
    "# Breast Cancer Classification – XGBoost vs Random Forest (Grid Search, Regularization)\n",
    "\n",
    "This notebook trains **XGBoost** and **Random Forest** models to classify breast tumors as **malignant (M)** or **benign (B)** using features computed from digitized FNA images.\n",
    "\n",
    "**Assumptions**\n",
    "- Target: `diagnosis` (`B`/`M`).\n",
    "- Unique ID column: `id` (dropped).\n",
    "- All other features are numeric; no missing values.\n",
    "\n",
    "We perform **GridSearchCV** for both models. L2-like regularization is applied via:\n",
    "- **XGBoost**: `reg_lambda` (true L2 penalty).\n",
    "- **Random Forest**: structural controls and pruning (`ccp_alpha`, `min_samples_leaf`, `min_samples_split`, `max_features`, optional `max_depth`), which act as regularization."
   ]
  },
  {
   "cell_type": "markdown",
   "id": "e240735d",
   "metadata": {},
   "source": [
    "## 0. Setup & Configuration"
   ]
  },
  {
   "cell_type": "code",
   "execution_count": null,
   "id": "7916939a",
   "metadata": {},
   "outputs": [],
   "source": [
    "# Paths & column names — update as needed\n",
    "DATA_PATH = 'your_data.csv'   # <-- change to your CSV path if different\n",
    "ID_COL = 'id'\n",
    "TARGET_COL = 'diagnosis'      # 'B' or 'M'\n",
    "\n",
    "RANDOM_STATE = 42\n",
    "TEST_SIZE = 0.2\n",
    "N_JOBS = -1\n",
    "\n",
    "# Primary scoring for model selection\n",
    "PRIMARY_SCORING = 'f1'  # You can switch to 'recall' if that's your priority\n",
    "CV_FOLDS = 5\n",
    "\n",
    "# Libraries\n",
    "import pandas as pd\n",
    "import numpy as np\n",
    "from pathlib import Path\n",
    "\n",
    "from sklearn.model_selection import train_test_split, GridSearchCV, StratifiedKFold, cross_validate\n",
    "from sklearn.metrics import precision_score, recall_score, accuracy_score, f1_score, confusion_matrix, ConfusionMatrixDisplay\n",
    "from sklearn.utils.class_weight import compute_class_weight\n",
    "\n",
    "from xgboost import XGBClassifier\n",
    "from sklearn.ensemble import RandomForestClassifier\n",
    "\n",
    "import matplotlib.pyplot as plt\n",
    "\n",
    "pd.set_option('display.max_columns', None)"
   ]
  },
  {
   "cell_type": "markdown",
   "id": "3d6d9866",
   "metadata": {},
   "source": [
    "## 1. Load Data"
   ]
  },
  {
   "cell_type": "code",
   "execution_count": null,
   "id": "98c3c1eb",
   "metadata": {},
   "outputs": [],
   "source": [
    "df = pd.read_csv(DATA_PATH)\n",
    "\n",
    "# Basic checks\n",
    "assert TARGET_COL in df.columns, f\"Target column {TARGET_COL!r} not found\"\n",
    "assert ID_COL in df.columns, f\"ID column {ID_COL!r} not found\"\n",
    "\n",
    "print(f\"Loaded shape: {df.shape}\")\n",
    "df.head()"
   ]
  },
  {
   "cell_type": "markdown",
   "id": "dc162002",
   "metadata": {},
   "source": [
    "## 2. Preprocess"
   ]
  },
  {
   "cell_type": "code",
   "execution_count": null,
   "id": "5e378f90",
   "metadata": {},
   "outputs": [],
   "source": [
    "# Drop ID\n",
    "df = df.drop(columns=[ID_COL])\n",
    "\n",
    "# Encode target: B -> 0 (benign), M -> 1 (malignant)\n",
    "df[TARGET_COL] = df[TARGET_COL].map({'B': 0, 'M': 1}).astype(int)\n",
    "\n",
    "# Split features/target\n",
    "X = df.drop(columns=[TARGET_COL])\n",
    "y = df[TARGET_COL]\n",
    "\n",
    "# Stratified split\n",
    "X_train, X_test, y_train, y_test = train_test_split(\n",
    "    X, y, test_size=TEST_SIZE, random_state=RANDOM_STATE, stratify=y\n",
    ")\n",
    "\n",
    "print(\"Train shape:\", X_train.shape, \" Test shape:\", X_test.shape)\n",
    "print(\"Train label balance:\", y_train.value_counts(normalize=True).sort_index())\n",
    "print(\"Test  label balance:\", y_test.value_counts(normalize=True).sort_index())"
   ]
  },
  {
   "cell_type": "markdown",
   "id": "80a93637",
   "metadata": {},
   "source": [
    "## 3. Helper Functions"
   ]
  },
  {
   "cell_type": "code",
   "execution_count": null,
   "id": "70eabc5b",
   "metadata": {},
   "outputs": [],
   "source": [
    "def compute_scale_pos_weight(y):\n",
    "    # For XGBoost: ratio of negative to positive class\n",
    "    pos = (y == 1).sum()\n",
    "    neg = (y == 0).sum()\n",
    "    return float(neg) / float(pos) if pos > 0 else 1.0\n",
    "\n",
    "def evaluate_on_test(y_true, y_pred, label):\n",
    "    prec = precision_score(y_true, y_pred)\n",
    "    rec  = recall_score(y_true, y_pred)\n",
    "    acc  = accuracy_score(y_true, y_pred)\n",
    "    f1   = f1_score(y_true, y_pred)\n",
    "    print(f\"\\n=== {label} – Test Metrics ===\")\n",
    "    print(f\"Precision: {prec:.4f}\")\n",
    "    print(f\"Recall:    {rec:.4f}\")\n",
    "    print(f\"Accuracy:  {acc:.4f}\")\n",
    "    print(f\"F1 Score:  {f1:.4f}\")\n",
    "    return {'model': label, 'precision': prec, 'recall': rec, 'accuracy': acc, 'f1': f1}\n",
    "\n",
    "def cross_validated_metrics(estimator, X, y, cv_folds=5):\n",
    "    scoring = {'precision': 'precision', 'recall': 'recall', 'accuracy': 'accuracy', 'f1': 'f1'}\n",
    "    cv = StratifiedKFold(n_splits=cv_folds, shuffle=True, random_state=RANDOM_STATE)\n",
    "    cv_results = cross_validate(estimator, X, y, scoring=scoring, cv=cv, n_jobs=N_JOBS, return_train_score=False)\n",
    "    summary = {k: float(np.mean(v)) for k, v in cv_results.items() if k.startswith('test_')}\n",
    "    # Rename keys without 'test_'\n",
    "    summary = {k.replace('test_', ''): v for k, v in summary.items()}\n",
    "    return summary\n",
    "\n",
    "def plot_conf_mat(y_true, y_pred, title):\n",
    "    cm = confusion_matrix(y_true, y_pred)\n",
    "    disp = ConfusionMatrixDisplay(confusion_matrix=cm)\n",
    "    fig, ax = plt.subplots()\n",
    "    disp.plot(ax=ax, colorbar=False)  # do not set any explicit colors\n",
    "    ax.set_title(title)\n",
    "    plt.show()"
   ]
  },
  {
   "cell_type": "markdown",
   "id": "3f833a6a",
   "metadata": {},
   "source": [
    "## 4. XGBoost – Grid Search with L2 Regularization"
   ]
  },
  {
   "cell_type": "code",
   "execution_count": null,
   "id": "62ce5637",
   "metadata": {},
   "outputs": [],
   "source": [
    "scale_pos_weight = compute_scale_pos_weight(y_train)\n",
    "print(\"Computed scale_pos_weight (train):\", round(scale_pos_weight, 3))\n",
    "\n",
    "xgb = XGBClassifier(\n",
    "    random_state=RANDOM_STATE,\n",
    "    eval_metric='logloss',\n",
    "    tree_method='hist',\n",
    "    use_label_encoder=False,\n",
    "    # We'll set scale_pos_weight inside the grid as a fixed value\n",
    ")\n",
    "\n",
    "param_grid_xgb = {\n",
    "    'n_estimators': [50, 100, 200],\n",
    "    'max_depth': [3, 4, 5],\n",
    "    'learning_rate': [0.01, 0.1, 0.2],\n",
    "    'reg_lambda': [0.1, 1, 10],\n",
    "    'min_child_weight': [1, 3, 5],\n",
    "    'subsample': [0.8, 1.0],\n",
    "    'colsample_bytree': [0.8, 1.0],\n",
    "    'scale_pos_weight': [scale_pos_weight],\n",
    "}\n",
    "\n",
    "cv = StratifiedKFold(n_splits=CV_FOLDS, shuffle=True, random_state=RANDOM_STATE)\n",
    "\n",
    "grid_xgb = GridSearchCV(\n",
    "    estimator=xgb,\n",
    "    param_grid=param_grid_xgb,\n",
    "    scoring=PRIMARY_SCORING,\n",
    "    cv=cv,\n",
    "    n_jobs=N_JOBS,\n",
    "    verbose=1\n",
    ")\n",
    "\n",
    "grid_xgb.fit(X_train, y_train)\n",
    "\n",
    "best_xgb = grid_xgb.best_estimator_\n",
    "print(\"\\nBest XGBoost Params:\", grid_xgb.best_params_)\n",
    "print(\"Best CV Score (primary):\", grid_xgb.best_score_)\n",
    "\n",
    "# Cross-validated metrics (for the chosen best estimator)\n",
    "xgb_cv_metrics = cross_validated_metrics(best_xgb, X_train, y_train, cv_folds=CV_FOLDS)\n",
    "print(\"\\nXGBoost CV Metrics (mean over folds):\", xgb_cv_metrics)\n",
    "\n",
    "# Test metrics\n",
    "y_pred_xgb = best_xgb.predict(X_test)\n",
    "xgb_test_metrics = evaluate_on_test(y_test, y_pred_xgb, label=\"XGBoost\")\n",
    "plot_conf_mat(y_test, y_pred_xgb, \"XGBoost – Confusion Matrix (Test)\")"
   ]
  },
  {
   "cell_type": "markdown",
   "id": "3fb0499b",
   "metadata": {},
   "source": [
    "## 5. Random Forest – Grid Search with Regularization & Pruning"
   ]
  },
  {
   "cell_type": "code",
   "execution_count": null,
   "id": "70dfd372",
   "metadata": {},
   "outputs": [],
   "source": [
    "rf = RandomForestClassifier(random_state=RANDOM_STATE)\n",
    "\n",
    "param_grid_rf = {\n",
    "    'n_estimators': [50, 100, 200],\n",
    "    'max_depth': [None, 5, 10],\n",
    "    'min_samples_split': [2, 5, 10],\n",
    "    'min_samples_leaf': [1, 2, 4],\n",
    "    'max_features': ['sqrt', 'log2'],\n",
    "    'ccp_alpha': [0.0, 0.001, 0.01],  # cost-complexity pruning\n",
    "    'class_weight': [None, 'balanced']  # handle imbalance if present\n",
    "}\n",
    "\n",
    "grid_rf = GridSearchCV(\n",
    "    estimator=rf,\n",
    "    param_grid=param_grid_rf,\n",
    "    scoring=PRIMARY_SCORING,\n",
    "    cv=cv,\n",
    "    n_jobs=N_JOBS,\n",
    "    verbose=1\n",
    ")\n",
    "\n",
    "grid_rf.fit(X_train, y_train)\n",
    "\n",
    "best_rf = grid_rf.best_estimator_\n",
    "print(\"\\nBest RF Params:\", grid_rf.best_params_)\n",
    "print(\"Best CV Score (primary):\", grid_rf.best_score_)\n",
    "\n",
    "# Cross-validated metrics (best estimator)\n",
    "rf_cv_metrics = cross_validated_metrics(best_rf, X_train, y_train, cv_folds=CV_FOLDS)\n",
    "print(\"\\nRandom Forest CV Metrics (mean over folds):\", rf_cv_metrics)\n",
    "\n",
    "# Test metrics\n",
    "y_pred_rf = best_rf.predict(X_test)\n",
    "rf_test_metrics = evaluate_on_test(y_test, y_pred_rf, label=\"Random Forest\")\n",
    "plot_conf_mat(y_test, y_pred_rf, \"Random Forest – Confusion Matrix (Test)\")"
   ]
  },
  {
   "cell_type": "markdown",
   "id": "1ed2306d",
   "metadata": {},
   "source": [
    "## 6. Side-by-Side Comparison & Save Results"
   ]
  },
  {
   "cell_type": "code",
   "execution_count": null,
   "id": "226a0466",
   "metadata": {},
   "outputs": [],
   "source": [
    "comparison = pd.DataFrame([xgb_test_metrics, rf_test_metrics]).set_index('model')\n",
    "print(\"\\n=== Test Set Comparison ===\")\n",
    "display(comparison)\n",
    "\n",
    "# Save for GitHub artifact\n",
    "out_path = Path(\"model_comparison.csv\")\n",
    "comparison.to_csv(out_path, index=True)\n",
    "print(f\"Saved comparison to: {out_path.resolve()}\")"
   ]
  },
  {
   "cell_type": "markdown",
   "id": "fb504fdc",
   "metadata": {},
   "source": [
    "## 7. Notes & Tips\n",
    "\n",
    "- If **recall** on malignant cases is your main priority, consider setting `PRIMARY_SCORING = 'recall'` or using a custom scorer that emphasizes recall.\n",
    "- You may expand the grids (e.g., more depths, learning rates) for a more exhaustive search, at the cost of runtime.\n",
    "- For very small datasets, prefer reporting **cross-validated** metrics in addition to a single train/test split.\n",
    "- You can export fitted models with `joblib.dump(best_xxx, 'model.pkl')` to reuse later."
   ]
  }
 ],
 "metadata": {},
 "nbformat": 4,
 "nbformat_minor": 5
}
